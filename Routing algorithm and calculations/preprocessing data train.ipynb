{
 "cells": [
  {
   "cell_type": "code",
   "execution_count": 1,
   "id": "6ebd021f",
   "metadata": {},
   "outputs": [],
   "source": [
    "import nltk\n",
    "from nltk.tokenize import word_tokenize\n",
    "from nltk.stem import PorterStemmer\n",
    "from nltk.stem import WordNetLemmatizer\n",
    "import re"
   ]
  },
  {
   "cell_type": "code",
   "execution_count": 2,
   "id": "65cbe514",
   "metadata": {},
   "outputs": [],
   "source": [
    "text = \"i would like to know which bus takes me from waab metro station to mowasalat head office?\""
   ]
  },
  {
   "cell_type": "code",
   "execution_count": 3,
   "id": "7d1c8e8a",
   "metadata": {},
   "outputs": [],
   "source": [
    "cleaned = re.sub('\\W+', ' ', text)\n",
    "tokenized = word_tokenize(cleaned)\n",
    "stemmer = PorterStemmer()\n",
    "stemmed = [stemmer.stem(token) for token in tokenized]"
   ]
  },
  {
   "cell_type": "code",
   "execution_count": 4,
   "id": "6399a364",
   "metadata": {},
   "outputs": [
    {
     "name": "stdout",
     "output_type": "stream",
     "text": [
      "Stemmed text:\n",
      "['i', 'would', 'like', 'to', 'know', 'which', 'bu', 'take', 'me', 'from', 'waab', 'metro', 'station', 'to', 'mowasalat', 'head', 'offic']\n"
     ]
    }
   ],
   "source": [
    "print(\"Stemmed text:\")\n",
    "print(stemmed)"
   ]
  },
  {
   "cell_type": "code",
   "execution_count": 8,
   "id": "3b0eea2e",
   "metadata": {},
   "outputs": [
    {
     "name": "stdout",
     "output_type": "stream",
     "text": [
      "Stemmed text:\n",
      "['i', 'want', 'a', 'bu', 'that', 'will', 'be', 'take', 'me', 'from', 'metro', 'station', 'waab', 'to', 'mowasalat']\n",
      "\n",
      "Lemmatized text:\n",
      "['i', 'want', 'a', 'bus', 'that', 'will', 'be', 'taking', 'me', 'from', 'metro', 'station', 'waab', 'to', 'mowasalat']\n"
     ]
    }
   ],
   "source": [
    "text = \"i want a bus that will be taking me from metro station waab to mowasalat \"\n",
    "cleaned = re.sub('\\W+', ' ', text)\n",
    "tokenized = word_tokenize(cleaned)\n",
    "stemmer = PorterStemmer()\n",
    "stemmed = [stemmer.stem(token) for token in tokenized]\n",
    "\n",
    "lemmatizer = WordNetLemmatizer()\n",
    "lemmatized = [lemmatizer.lemmatize(token) for token in tokenized]\n",
    "print(\"Stemmed text:\")\n",
    "print(stemmed)\n",
    "print(\"\\nLemmatized text:\")\n",
    "print(lemmatized)\n"
   ]
  },
  {
   "cell_type": "code",
   "execution_count": null,
   "id": "903ce3fd",
   "metadata": {},
   "outputs": [],
   "source": []
  },
  {
   "cell_type": "code",
   "execution_count": null,
   "id": "b2cc413f",
   "metadata": {},
   "outputs": [],
   "source": []
  }
 ],
 "metadata": {
  "kernelspec": {
   "display_name": "Python 3 (ipykernel)",
   "language": "python",
   "name": "python3"
  },
  "language_info": {
   "codemirror_mode": {
    "name": "ipython",
    "version": 3
   },
   "file_extension": ".py",
   "mimetype": "text/x-python",
   "name": "python",
   "nbconvert_exporter": "python",
   "pygments_lexer": "ipython3",
   "version": "3.11.5"
  }
 },
 "nbformat": 4,
 "nbformat_minor": 5
}
